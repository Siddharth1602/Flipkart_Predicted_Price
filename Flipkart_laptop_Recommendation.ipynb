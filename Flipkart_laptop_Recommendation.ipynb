{
 "cells": [
  {
   "cell_type": "code",
   "execution_count": 1,
   "id": "91882f8f",
   "metadata": {},
   "outputs": [],
   "source": [
    "import pandas as pd\n",
    "import numpy as np\n",
    "import matplotlib.pyplot as plt"
   ]
  },
  {
   "cell_type": "code",
   "execution_count": 2,
   "id": "b3d32c1b",
   "metadata": {},
   "outputs": [
    {
     "data": {
      "text/html": [
       "<div>\n",
       "<style scoped>\n",
       "    .dataframe tbody tr th:only-of-type {\n",
       "        vertical-align: middle;\n",
       "    }\n",
       "\n",
       "    .dataframe tbody tr th {\n",
       "        vertical-align: top;\n",
       "    }\n",
       "\n",
       "    .dataframe thead th {\n",
       "        text-align: right;\n",
       "    }\n",
       "</style>\n",
       "<table border=\"1\" class=\"dataframe\">\n",
       "  <thead>\n",
       "    <tr style=\"text-align: right;\">\n",
       "      <th></th>\n",
       "      <th>Product</th>\n",
       "      <th>Rating</th>\n",
       "      <th>MRP</th>\n",
       "      <th>Feature</th>\n",
       "    </tr>\n",
       "  </thead>\n",
       "  <tbody>\n",
       "    <tr>\n",
       "      <th>0</th>\n",
       "      <td>Lenovo IdeaPad 3 Core i3 11th Gen - (8 GB/256 ...</td>\n",
       "      <td>4.2</td>\n",
       "      <td>₹36,990</td>\n",
       "      <td>Intel Core i3 Processor (11th Gen)8 GB DDR4 RA...</td>\n",
       "    </tr>\n",
       "    <tr>\n",
       "      <th>1</th>\n",
       "      <td>Lenovo IdeaPad 3 Core i3 11th Gen - (8 GB/512 ...</td>\n",
       "      <td>4.2</td>\n",
       "      <td>₹39,990</td>\n",
       "      <td>Intel Core i3 Processor (11th Gen)8 GB DDR4 RA...</td>\n",
       "    </tr>\n",
       "    <tr>\n",
       "      <th>2</th>\n",
       "      <td>ASUS VivoBook 15 (2022) Core i3 10th Gen - (8 ...</td>\n",
       "      <td>4.3</td>\n",
       "      <td>₹32,990</td>\n",
       "      <td>Intel Core i3 Processor (10th Gen)8 GB DDR4 RA...</td>\n",
       "    </tr>\n",
       "    <tr>\n",
       "      <th>3</th>\n",
       "      <td>HP Pavilion Ryzen 5 Hexa Core AMD R5-5600H - (...</td>\n",
       "      <td>4.4</td>\n",
       "      <td>₹49,990</td>\n",
       "      <td>AMD Ryzen 5 Hexa Core Processor8 GB DDR4 RAM64...</td>\n",
       "    </tr>\n",
       "    <tr>\n",
       "      <th>4</th>\n",
       "      <td>ASUS TUF Gaming F15 Core i5 10th Gen - (8 GB/5...</td>\n",
       "      <td>4.4</td>\n",
       "      <td>₹49,990</td>\n",
       "      <td>Intel Core i5 Processor (10th Gen)8 GB DDR4 RA...</td>\n",
       "    </tr>\n",
       "  </tbody>\n",
       "</table>\n",
       "</div>"
      ],
      "text/plain": [
       "                                             Product  Rating      MRP  \\\n",
       "0  Lenovo IdeaPad 3 Core i3 11th Gen - (8 GB/256 ...     4.2  ₹36,990   \n",
       "1  Lenovo IdeaPad 3 Core i3 11th Gen - (8 GB/512 ...     4.2  ₹39,990   \n",
       "2  ASUS VivoBook 15 (2022) Core i3 10th Gen - (8 ...     4.3  ₹32,990   \n",
       "3  HP Pavilion Ryzen 5 Hexa Core AMD R5-5600H - (...     4.4  ₹49,990   \n",
       "4  ASUS TUF Gaming F15 Core i5 10th Gen - (8 GB/5...     4.4  ₹49,990   \n",
       "\n",
       "                                             Feature  \n",
       "0  Intel Core i3 Processor (11th Gen)8 GB DDR4 RA...  \n",
       "1  Intel Core i3 Processor (11th Gen)8 GB DDR4 RA...  \n",
       "2  Intel Core i3 Processor (10th Gen)8 GB DDR4 RA...  \n",
       "3  AMD Ryzen 5 Hexa Core Processor8 GB DDR4 RAM64...  \n",
       "4  Intel Core i5 Processor (10th Gen)8 GB DDR4 RA...  "
      ]
     },
     "execution_count": 2,
     "metadata": {},
     "output_type": "execute_result"
    }
   ],
   "source": [
    "df = pd.read_csv(\"laptop_details.csv\")\n",
    "\n",
    "df.head()"
   ]
  },
  {
   "cell_type": "code",
   "execution_count": 3,
   "id": "ca05b432",
   "metadata": {},
   "outputs": [],
   "source": [
    "df['MRP'] = df['MRP'].str.replace('₹', '')\n",
    "\n",
    "df['MRP'] = df['MRP'].str.replace(',', '')\n",
    "\n",
    "df[\"MRP\"] = df[\"MRP\"].astype(int)"
   ]
  },
  {
   "cell_type": "code",
   "execution_count": 4,
   "id": "e707edc1",
   "metadata": {},
   "outputs": [],
   "source": [
    "## This has been done with the help of regular expression.\n",
    "\n",
    "df['processor'] = df['Feature'].str.extract('(Intel Core i\\d)') # Extracts the processor information\n",
    "df['ram'] = df['Feature'].str.extract('(\\d+ GB DDR4)') # Extracts the RAM information\n",
    "df['os'] = df['Feature'].str.extract('(Windows \\d+)') # Extracts the operating system information\n",
    "df['ssd'] = df['Feature'].str.extract('(\\d+ GB SSD)') # Extracts the SSD information\n",
    "df['screen_size'] = df['Feature'].str.extract('(\\d{2}\\.\\d+ inch)') # Extracts the screen size information\n",
    "df['Brand'] = df['Product'].str.extract('([A-Za-z]+)')"
   ]
  },
  {
   "cell_type": "code",
   "execution_count": 5,
   "id": "aaf003a9",
   "metadata": {},
   "outputs": [],
   "source": [
    "df_sorted = df.sort_values('MRP')\n",
    "\n",
    "df_sorted = df_sorted.drop('Product', axis=1)\n",
    "\n",
    "df_sorted = df_sorted.drop(\"Feature\",axis = 1)"
   ]
  },
  {
   "cell_type": "code",
   "execution_count": 6,
   "id": "15b07113",
   "metadata": {},
   "outputs": [],
   "source": [
    "## Replacing the null values.\n",
    "\n",
    "df_sorted[\"Rating\"].fillna(df_sorted['Rating'].mean(),inplace = True)\n",
    "df_sorted[\"processor\"].fillna(\"Intel Core i5\",inplace = True)\n",
    "df_sorted[\"ram\"].fillna(\"8 GB DDR4\",inplace = True)\n",
    "df_sorted[\"os\"].fillna(\"Windows 11\",inplace = True)\n",
    "df_sorted[\"ssd\"].fillna(\"512 GB SSD\",inplace = True)\n",
    "df_sorted[\"screen_size\"].fillna(\"15.6 inch\",inplace = True)"
   ]
  },
  {
   "cell_type": "code",
   "execution_count": 7,
   "id": "a0353f75",
   "metadata": {},
   "outputs": [
    {
     "data": {
      "text/plain": [
       "Rating         0\n",
       "MRP            0\n",
       "processor      0\n",
       "ram            0\n",
       "os             0\n",
       "ssd            0\n",
       "screen_size    0\n",
       "Brand          0\n",
       "dtype: int64"
      ]
     },
     "execution_count": 7,
     "metadata": {},
     "output_type": "execute_result"
    }
   ],
   "source": [
    "df_sorted.isnull().sum()"
   ]
  },
  {
   "cell_type": "code",
   "execution_count": 8,
   "id": "be960459",
   "metadata": {},
   "outputs": [
    {
     "data": {
      "text/html": [
       "<div>\n",
       "<style scoped>\n",
       "    .dataframe tbody tr th:only-of-type {\n",
       "        vertical-align: middle;\n",
       "    }\n",
       "\n",
       "    .dataframe tbody tr th {\n",
       "        vertical-align: top;\n",
       "    }\n",
       "\n",
       "    .dataframe thead th {\n",
       "        text-align: right;\n",
       "    }\n",
       "</style>\n",
       "<table border=\"1\" class=\"dataframe\">\n",
       "  <thead>\n",
       "    <tr style=\"text-align: right;\">\n",
       "      <th></th>\n",
       "      <th>Rating</th>\n",
       "      <th>MRP</th>\n",
       "      <th>processor</th>\n",
       "      <th>ram</th>\n",
       "      <th>os</th>\n",
       "      <th>ssd</th>\n",
       "      <th>screen_size</th>\n",
       "      <th>Brand</th>\n",
       "    </tr>\n",
       "  </thead>\n",
       "  <tbody>\n",
       "    <tr>\n",
       "      <th>345</th>\n",
       "      <td>4.00000</td>\n",
       "      <td>14990</td>\n",
       "      <td>Intel Core i5</td>\n",
       "      <td>8 GB DDR4</td>\n",
       "      <td>Windows 11</td>\n",
       "      <td>512 GB SSD</td>\n",
       "      <td>11.6 inch</td>\n",
       "      <td>ASUS</td>\n",
       "    </tr>\n",
       "    <tr>\n",
       "      <th>169</th>\n",
       "      <td>4.32117</td>\n",
       "      <td>15990</td>\n",
       "      <td>Intel Core i5</td>\n",
       "      <td>8 GB DDR4</td>\n",
       "      <td>Windows 11</td>\n",
       "      <td>128 GB SSD</td>\n",
       "      <td>14.1 inch</td>\n",
       "      <td>Ultimus</td>\n",
       "    </tr>\n",
       "    <tr>\n",
       "      <th>96</th>\n",
       "      <td>4.32117</td>\n",
       "      <td>19490</td>\n",
       "      <td>Intel Core i5</td>\n",
       "      <td>4 GB DDR4</td>\n",
       "      <td>Windows 11</td>\n",
       "      <td>512 GB SSD</td>\n",
       "      <td>15.6 inch</td>\n",
       "      <td>Lenovo</td>\n",
       "    </tr>\n",
       "    <tr>\n",
       "      <th>89</th>\n",
       "      <td>4.32117</td>\n",
       "      <td>19490</td>\n",
       "      <td>Intel Core i5</td>\n",
       "      <td>4 GB DDR4</td>\n",
       "      <td>Windows 11</td>\n",
       "      <td>512 GB SSD</td>\n",
       "      <td>15.6 inch</td>\n",
       "      <td>Lenovo</td>\n",
       "    </tr>\n",
       "    <tr>\n",
       "      <th>22</th>\n",
       "      <td>3.70000</td>\n",
       "      <td>19490</td>\n",
       "      <td>Intel Core i5</td>\n",
       "      <td>8 GB DDR4</td>\n",
       "      <td>Windows 11</td>\n",
       "      <td>256 GB SSD</td>\n",
       "      <td>15.6 inch</td>\n",
       "      <td>Lenovo</td>\n",
       "    </tr>\n",
       "  </tbody>\n",
       "</table>\n",
       "</div>"
      ],
      "text/plain": [
       "      Rating    MRP      processor        ram          os         ssd  \\\n",
       "345  4.00000  14990  Intel Core i5  8 GB DDR4  Windows 11  512 GB SSD   \n",
       "169  4.32117  15990  Intel Core i5  8 GB DDR4  Windows 11  128 GB SSD   \n",
       "96   4.32117  19490  Intel Core i5  4 GB DDR4  Windows 11  512 GB SSD   \n",
       "89   4.32117  19490  Intel Core i5  4 GB DDR4  Windows 11  512 GB SSD   \n",
       "22   3.70000  19490  Intel Core i5  8 GB DDR4  Windows 11  256 GB SSD   \n",
       "\n",
       "    screen_size    Brand  \n",
       "345   11.6 inch     ASUS  \n",
       "169   14.1 inch  Ultimus  \n",
       "96    15.6 inch   Lenovo  \n",
       "89    15.6 inch   Lenovo  \n",
       "22    15.6 inch   Lenovo  "
      ]
     },
     "execution_count": 8,
     "metadata": {},
     "output_type": "execute_result"
    }
   ],
   "source": [
    "df_sorted.head()"
   ]
  },
  {
   "cell_type": "code",
   "execution_count": 9,
   "id": "1d467a68",
   "metadata": {},
   "outputs": [
    {
     "data": {
      "text/plain": [
       "Index(['Rating', 'MRP', 'Processor', 'RAM', 'Operating System', 'Storage',\n",
       "       'Screen Size', 'Brand'],\n",
       "      dtype='object')"
      ]
     },
     "execution_count": 9,
     "metadata": {},
     "output_type": "execute_result"
    }
   ],
   "source": [
    "df_sorted = df_sorted.rename(columns={\n",
    "    'processor': 'Processor',\n",
    "    'ram': 'RAM',\n",
    "    'os': 'Operating System',\n",
    "    'ssd': 'Storage',\n",
    "    'screen_size': 'Screen Size',\n",
    "})\n",
    "\n",
    "df_sorted.columns"
   ]
  },
  {
   "cell_type": "code",
   "execution_count": 10,
   "id": "16474c79",
   "metadata": {},
   "outputs": [
    {
     "data": {
      "text/plain": [
       "<Axes: >"
      ]
     },
     "execution_count": 10,
     "metadata": {},
     "output_type": "execute_result"
    },
    {
     "data": {
      "image/png": "[encoded data removed]",
      "text/plain": [
       "<Figure size 640x480 with 1 Axes>"
      ]
     },
     "metadata": {},
     "output_type": "display_data"
    }
   ],
   "source": [
    "df_sorted[\"Brand\"].value_counts().plot(kind='bar')"
   ]
  },
  {
   "cell_type": "code",
   "execution_count": 11,
   "id": "d512d10f",
   "metadata": {},
   "outputs": [],
   "source": [
    "asus_prices = df_sorted.loc[df_sorted['Brand'] == 'ASUS', 'MRP']\n",
    "Lenovo_prices = df_sorted.loc[df_sorted['Brand'] == 'Lenovo', 'MRP']\n",
    "HP_prices = df_sorted.loc[df_sorted['Brand'] == 'HP', 'MRP']\n",
    "Dell_prices = df_sorted.loc[df_sorted['Brand'] == 'DELL', 'MRP']\n",
    "acer_prices = df_sorted.loc[df_sorted['Brand'] == 'acer', 'MRP']\n",
    "Redmi_prices = df_sorted.loc[df_sorted['Brand'] == 'RedmiBook', 'MRP']\n",
    "infinix_price = df_sorted.loc[df_sorted['Brand']== 'Infinix','MRP']\n",
    "apple_prices = df_sorted.loc[df_sorted['Brand'] == 'APPLE', 'MRP']"
   ]
  },
  {
   "cell_type": "code",
   "execution_count": 12,
   "id": "31ef589b",
   "metadata": {},
   "outputs": [
    {
     "name": "stdout",
     "output_type": "stream",
     "text": [
      "The sum of Asus laptops are: 29032565\n",
      "The sum of Lenovo laptops are: 8909123\n",
      "The sum of HP laptops are: 3976929\n",
      "The sum of Dell laptops are: 4493302\n",
      "The sum of acer laptops are: 2251016\n",
      "The sum of redmi laptops are: 1231690\n",
      "The sum of infinix laptops are: 737800\n",
      "The sum of apple laptops are: 3084310\n"
     ]
    }
   ],
   "source": [
    "print(\"The sum of Asus laptops are:\",asus_prices.sum())\n",
    "print(\"The sum of Lenovo laptops are:\",Lenovo_prices.sum())\n",
    "print(\"The sum of HP laptops are:\",HP_prices.sum())\n",
    "print(\"The sum of Dell laptops are:\",Dell_prices.sum())\n",
    "print(\"The sum of acer laptops are:\",acer_prices.sum())\n",
    "print(\"The sum of redmi laptops are:\",Redmi_prices.sum())\n",
    "print(\"The sum of infinix laptops are:\",infinix_price.sum())\n",
    "print(\"The sum of apple laptops are:\",apple_prices.sum())"
   ]
  },
  {
   "cell_type": "code",
   "execution_count": 13,
   "id": "7d3c6334",
   "metadata": {},
   "outputs": [
    {
     "data": {
      "text/plain": [
       "<Axes: >"
      ]
     },
     "execution_count": 13,
     "metadata": {},
     "output_type": "execute_result"
    },
    {
     "data": {
      "image/png": "[encoded data removed]",
      "text/plain": [
       "<Figure size 640x480 with 1 Axes>"
      ]
     },
     "metadata": {},
     "output_type": "display_data"
    }
   ],
   "source": [
    "df_sorted['Operating System'].value_counts().plot(kind='bar')"
   ]
  },
  {
   "cell_type": "code",
   "execution_count": 14,
   "id": "7562a00a",
   "metadata": {},
   "outputs": [
    {
     "data": {
      "text/plain": [
       "<Axes: >"
      ]
     },
     "execution_count": 14,
     "metadata": {},
     "output_type": "execute_result"
    },
    {
     "data": {
      "image/png": "[encoded data removed]",
      "text/plain": [
       "<Figure size 640x480 with 1 Axes>"
      ]
     },
     "metadata": {},
     "output_type": "display_data"
    }
   ],
   "source": [
    "df_sorted[\"Storage\"].value_counts().plot(kind='bar')"
   ]
  },
  {
   "cell_type": "code",
   "execution_count": 15,
   "id": "83c32190",
   "metadata": {},
   "outputs": [
    {
     "data": {
      "text/plain": [
       "<Axes: >"
      ]
     },
     "execution_count": 15,
     "metadata": {},
     "output_type": "execute_result"
    },
    {
     "data": {
      "image/png": "[encoded data removed]",
      "text/plain": [
       "<Figure size 640x480 with 1 Axes>"
      ]
     },
     "metadata": {},
     "output_type": "display_data"
    }
   ],
   "source": [
    "df_sorted[\"RAM\"].value_counts().plot(kind='bar')"
   ]
  },
  {
   "cell_type": "code",
   "execution_count": 16,
   "id": "f3b2d032",
   "metadata": {},
   "outputs": [
    {
     "data": {
      "text/plain": [
       "<Axes: >"
      ]
     },
     "execution_count": 16,
     "metadata": {},
     "output_type": "execute_result"
    },
    {
     "data": {
      "image/png": "[encoded data removed]",
      "text/plain": [
       "<Figure size 640x480 with 1 Axes>"
      ]
     },
     "metadata": {},
     "output_type": "display_data"
    }
   ],
   "source": [
    "df_sorted[\"Processor\"].value_counts().plot(kind='bar')"
   ]
  },
  {
   "cell_type": "markdown",
   "id": "8567974f",
   "metadata": {},
   "source": [
    "<b>From the above value counts we can say that the maximum number of \n",
    "<span style=\"color: black;\">Windows 11</span> are <span style=\"color: blue;\">594</span>, \n",
    "<span style=\"color: red;\">512 GB SSD</span> are <span style=\"color: blue;\">587</span>, \n",
    "<span style=\"color: orange;\">8 GB DDR4</span> are <span style=\"color: blue;\">537</span>, \n",
    "and <span style=\"color: purple;\">Intel Core i5</span> are <span style=\"color: blue;\">518</span></b>."
   ]
  },
  {
   "cell_type": "code",
   "execution_count": 17,
   "id": "f4e42013",
   "metadata": {},
   "outputs": [
    {
     "name": "stdout",
     "output_type": "stream",
     "text": [
      "The sum of all the laptops that have windows 11: 49062714\n",
      "The sum of all the laptops that have 512 GB SSD: 52960996\n",
      "The sum of all the laptops that have 8 GB DDR4 41330176\n",
      "The sum of all the laptops that have Intel Core i5 Processor: 43316088\n"
     ]
    }
   ],
   "source": [
    "print(\"The sum of all the laptops that have windows 11:\",\n",
    "      df_sorted.loc[df_sorted['Operating System'] == 'Windows 11', 'MRP'].sum())\n",
    "\n",
    "print(\"The sum of all the laptops that have 512 GB SSD:\",\n",
    "      df_sorted.loc[df_sorted['Storage'] == '512 GB SSD', 'MRP'].sum())\n",
    "\n",
    "print(\"The sum of all the laptops that have 8 GB DDR4\",\n",
    "     df_sorted.loc[df_sorted['RAM'] == '8 GB DDR4', 'MRP'].sum())\n",
    "\n",
    "print(\"The sum of all the laptops that have Intel Core i5 Processor:\",\n",
    "      df_sorted.loc[df_sorted['Processor'] == 'Intel Core i5', 'MRP'].sum())"
   ]
  },
  {
   "cell_type": "code",
   "execution_count": 18,
   "id": "948e8b71",
   "metadata": {},
   "outputs": [
    {
     "data": {
      "text/plain": [
       "<Axes: >"
      ]
     },
     "execution_count": 18,
     "metadata": {},
     "output_type": "execute_result"
    },
    {
     "data": {
      "image/png": "[encoded data removed]",
      "text/plain": [
       "<Figure size 640x480 with 1 Axes>"
      ]
     },
     "metadata": {},
     "output_type": "display_data"
    }
   ],
   "source": [
    "df_sorted.loc[df_sorted['Operating System'] == 'Windows 11', 'MRP'].plot(kind = 'box')"
   ]
  },
  {
   "cell_type": "code",
   "execution_count": 19,
   "id": "6f91c83c",
   "metadata": {},
   "outputs": [
    {
     "data": {
      "text/plain": [
       "<Axes: ylabel='Density'>"
      ]
     },
     "execution_count": 19,
     "metadata": {},
     "output_type": "execute_result"
    },
    {
     "data": {
      "image/png": "[encoded data removed]",
      "text/plain": [
       "<Figure size 640x480 with 1 Axes>"
      ]
     },
     "metadata": {},
     "output_type": "display_data"
    }
   ],
   "source": [
    "df_sorted.loc[df_sorted['Storage'] == '512 GB SSD', 'MRP'].plot(kind = 'kde')"
   ]
  },
  {
   "cell_type": "code",
   "execution_count": 20,
   "id": "e9b179e1",
   "metadata": {},
   "outputs": [
    {
     "data": {
      "text/plain": [
       "<Axes: ylabel='Density'>"
      ]
     },
     "execution_count": 20,
     "metadata": {},
     "output_type": "execute_result"
    },
    {
     "data": {
      "image/png": "[encoded data removed]",
      "text/plain": [
       "<Figure size 640x480 with 1 Axes>"
      ]
     },
     "metadata": {},
     "output_type": "display_data"
    }
   ],
   "source": [
    "df_sorted.loc[df_sorted['RAM'] == '8 GB DDR4', 'MRP'].plot(kind = 'kde')"
   ]
  },
  {
   "cell_type": "code",
   "execution_count": 21,
   "id": "bd58b01e",
   "metadata": {},
   "outputs": [
    {
     "data": {
      "text/plain": [
       "<Axes: ylabel='Density'>"
      ]
     },
     "execution_count": 21,
     "metadata": {},
     "output_type": "execute_result"
    },
    {
     "data": {
      "image/png": "[encoded data removed]",
      "text/plain": [
       "<Figure size 640x480 with 1 Axes>"
      ]
     },
     "metadata": {},
     "output_type": "display_data"
    }
   ],
   "source": [
    "df_sorted.loc[df_sorted['Processor'] == 'Intel Core i5', 'MRP'].plot(kind = 'kde')"
   ]
  },
  {
   "cell_type": "markdown",
   "id": "9fe45184",
   "metadata": {},
   "source": [
    "## Recommendation Model"
   ]
  },
  {
   "cell_type": "code",
   "execution_count": 22,
   "id": "59c455ab",
   "metadata": {},
   "outputs": [],
   "source": [
    "from sklearn.model_selection import train_test_split\n",
    "from sklearn.linear_model import LinearRegression"
   ]
  },
  {
   "cell_type": "code",
   "execution_count": 23,
   "id": "f95f341b",
   "metadata": {},
   "outputs": [
    {
     "data": {
      "text/html": [
       "<div>\n",
       "<style scoped>\n",
       "    .dataframe tbody tr th:only-of-type {\n",
       "        vertical-align: middle;\n",
       "    }\n",
       "\n",
       "    .dataframe tbody tr th {\n",
       "        vertical-align: top;\n",
       "    }\n",
       "\n",
       "    .dataframe thead th {\n",
       "        text-align: right;\n",
       "    }\n",
       "</style>\n",
       "<table border=\"1\" class=\"dataframe\">\n",
       "  <thead>\n",
       "    <tr style=\"text-align: right;\">\n",
       "      <th></th>\n",
       "      <th>Rating</th>\n",
       "      <th>MRP</th>\n",
       "      <th>Processor</th>\n",
       "      <th>RAM</th>\n",
       "      <th>Operating System</th>\n",
       "      <th>Storage</th>\n",
       "      <th>Screen Size</th>\n",
       "      <th>Brand</th>\n",
       "    </tr>\n",
       "  </thead>\n",
       "  <tbody>\n",
       "    <tr>\n",
       "      <th>345</th>\n",
       "      <td>4.00000</td>\n",
       "      <td>14990</td>\n",
       "      <td>Intel Core i5</td>\n",
       "      <td>8 GB DDR4</td>\n",
       "      <td>Windows 11</td>\n",
       "      <td>512 GB SSD</td>\n",
       "      <td>11.6 inch</td>\n",
       "      <td>ASUS</td>\n",
       "    </tr>\n",
       "    <tr>\n",
       "      <th>169</th>\n",
       "      <td>4.32117</td>\n",
       "      <td>15990</td>\n",
       "      <td>Intel Core i5</td>\n",
       "      <td>8 GB DDR4</td>\n",
       "      <td>Windows 11</td>\n",
       "      <td>128 GB SSD</td>\n",
       "      <td>14.1 inch</td>\n",
       "      <td>Ultimus</td>\n",
       "    </tr>\n",
       "    <tr>\n",
       "      <th>96</th>\n",
       "      <td>4.32117</td>\n",
       "      <td>19490</td>\n",
       "      <td>Intel Core i5</td>\n",
       "      <td>4 GB DDR4</td>\n",
       "      <td>Windows 11</td>\n",
       "      <td>512 GB SSD</td>\n",
       "      <td>15.6 inch</td>\n",
       "      <td>Lenovo</td>\n",
       "    </tr>\n",
       "    <tr>\n",
       "      <th>89</th>\n",
       "      <td>4.32117</td>\n",
       "      <td>19490</td>\n",
       "      <td>Intel Core i5</td>\n",
       "      <td>4 GB DDR4</td>\n",
       "      <td>Windows 11</td>\n",
       "      <td>512 GB SSD</td>\n",
       "      <td>15.6 inch</td>\n",
       "      <td>Lenovo</td>\n",
       "    </tr>\n",
       "    <tr>\n",
       "      <th>22</th>\n",
       "      <td>3.70000</td>\n",
       "      <td>19490</td>\n",
       "      <td>Intel Core i5</td>\n",
       "      <td>8 GB DDR4</td>\n",
       "      <td>Windows 11</td>\n",
       "      <td>256 GB SSD</td>\n",
       "      <td>15.6 inch</td>\n",
       "      <td>Lenovo</td>\n",
       "    </tr>\n",
       "  </tbody>\n",
       "</table>\n",
       "</div>"
      ],
      "text/plain": [
       "      Rating    MRP      Processor        RAM Operating System     Storage  \\\n",
       "345  4.00000  14990  Intel Core i5  8 GB DDR4       Windows 11  512 GB SSD   \n",
       "169  4.32117  15990  Intel Core i5  8 GB DDR4       Windows 11  128 GB SSD   \n",
       "96   4.32117  19490  Intel Core i5  4 GB DDR4       Windows 11  512 GB SSD   \n",
       "89   4.32117  19490  Intel Core i5  4 GB DDR4       Windows 11  512 GB SSD   \n",
       "22   3.70000  19490  Intel Core i5  8 GB DDR4       Windows 11  256 GB SSD   \n",
       "\n",
       "    Screen Size    Brand  \n",
       "345   11.6 inch     ASUS  \n",
       "169   14.1 inch  Ultimus  \n",
       "96    15.6 inch   Lenovo  \n",
       "89    15.6 inch   Lenovo  \n",
       "22    15.6 inch   Lenovo  "
      ]
     },
     "execution_count": 23,
     "metadata": {},
     "output_type": "execute_result"
    }
   ],
   "source": [
    "df_sorted.head()"
   ]
  },
  {
   "cell_type": "code",
   "execution_count": 24,
   "id": "ad87cf0c",
   "metadata": {},
   "outputs": [],
   "source": [
    "df_sorted['Operating System'] = df_sorted['Operating System'].str.replace('Windows', '')\n",
    "df_sorted['Storage'] = df_sorted['Storage'].str.replace('GB SSD', '')\n",
    "df_sorted['Screen Size'] = df_sorted['Screen Size'].str.replace('inch', '')\n",
    "df_sorted['RAM'] = df_sorted['RAM'].str.replace('GB DDR4', '')"
   ]
  },
  {
   "cell_type": "code",
   "execution_count": 25,
   "id": "7217b797",
   "metadata": {},
   "outputs": [],
   "source": [
    "df_sorted[\"Operating System\"] = df_sorted[\"Operating System\"].astype(int)\n",
    "df_sorted[\"Storage\"] = df_sorted[\"Storage\"].astype(int)\n",
    "df_sorted[\"Screen Size\"] = df_sorted[\"Screen Size\"].astype(float)\n",
    "df_sorted[\"RAM\"] = df_sorted[\"RAM\"].astype(int)"
   ]
  },
  {
   "cell_type": "code",
   "execution_count": 26,
   "id": "6c657fea",
   "metadata": {},
   "outputs": [
    {
     "name": "stdout",
     "output_type": "stream",
     "text": [
      "<class 'pandas.core.frame.DataFrame'>\n",
      "Int64Index: 720 entries, 345 to 625\n",
      "Data columns (total 8 columns):\n",
      " #   Column            Non-Null Count  Dtype  \n",
      "---  ------            --------------  -----  \n",
      " 0   Rating            720 non-null    float64\n",
      " 1   MRP               720 non-null    int32  \n",
      " 2   Processor         720 non-null    object \n",
      " 3   RAM               720 non-null    int32  \n",
      " 4   Operating System  720 non-null    int32  \n",
      " 5   Storage           720 non-null    int32  \n",
      " 6   Screen Size       720 non-null    float64\n",
      " 7   Brand             720 non-null    object \n",
      "dtypes: float64(2), int32(4), object(2)\n",
      "memory usage: 39.4+ KB\n"
     ]
    }
   ],
   "source": [
    "df_sorted.info()"
   ]
  },
  {
   "cell_type": "code",
   "execution_count": 27,
   "id": "ce4f9a85",
   "metadata": {},
   "outputs": [],
   "source": [
    "# select the features and the target variable\n",
    "X = df_sorted[['RAM', 'Storage', 'Operating System', 'Screen Size']]\n",
    "y = df_sorted['MRP']"
   ]
  },
  {
   "cell_type": "code",
   "execution_count": 28,
   "id": "b546b0b0",
   "metadata": {},
   "outputs": [],
   "source": [
    "# split the data into training and testing sets\n",
    "X_train, X_test, y_train, y_test = train_test_split(X, y, test_size=0.2, random_state=42)"
   ]
  },
  {
   "cell_type": "code",
   "execution_count": 29,
   "id": "e677d8c1",
   "metadata": {},
   "outputs": [
    {
     "data": {
      "text/plain": [
       "LinearRegression()"
      ]
     },
     "execution_count": 29,
     "metadata": {},
     "output_type": "execute_result"
    }
   ],
   "source": [
    "# train the linear regression model\n",
    "model = LinearRegression()\n",
    "model.fit(X_train, y_train)"
   ]
  },
  {
   "cell_type": "code",
   "execution_count": 35,
   "id": "174fcd28",
   "metadata": {},
   "outputs": [
    {
     "name": "stdout",
     "output_type": "stream",
     "text": [
      "     Actual      Predicted\n",
      "369   54300   83525.641081\n",
      "454   45990   47894.915900\n",
      "114   33900   47894.915900\n",
      "700   39990   83525.641081\n",
      "34    73990   83525.641081\n",
      "..      ...            ...\n",
      "303   38705   83525.641081\n",
      "466   38705   83525.641081\n",
      "240   39990   83525.641081\n",
      "555   37390   47894.915900\n",
      "165   85990  118607.910595\n",
      "\n",
      "[144 rows x 2 columns]\n"
     ]
    }
   ],
   "source": [
    "# get the predicted values for the test set\n",
    "y_pred = model.predict(X_test)\n",
    "\n",
    "# create a new DataFrame with the predicted values and actual values for the test set\n",
    "results_df = pd.DataFrame({'Actual': y_test, 'Predicted': y_pred})\n",
    "\n",
    "# print the results DataFrame\n",
    "print(results_df)"
   ]
  },
  {
   "cell_type": "code",
   "execution_count": 36,
   "id": "6c5539e4",
   "metadata": {},
   "outputs": [
    {
     "name": "stdout",
     "output_type": "stream",
     "text": [
      "Enter RAM in GB: 8\n",
      "Enter storage in GB: 512\n",
      "Enter operating system: 11\n",
      "Enter screen size in inches: 14.1\n",
      "The predicted price for this laptop is Rs. 74700\n"
     ]
    }
   ],
   "source": [
    "# take user inputs for RAM, Storage, Operating System, and Screen Size\n",
    "RAM = int(input(\"Enter RAM in GB: \"))\n",
    "Storage = int(input(\"Enter storage in GB: \"))\n",
    "Operating_System = input(\"Enter operating system: \")\n",
    "Screen_Size = float(input(\"Enter screen size in inches: \"))\n",
    "\n",
    "# create a DataFrame with the user inputs as a single row\n",
    "new_laptop = pd.DataFrame({'RAM': [RAM], 'Storage': [Storage], \n",
    "                           'Operating System': [Operating_System], 'Screen Size': [Screen_Size]})\n",
    "\n",
    "# make a price prediction for the new laptop using the trained model\n",
    "predicted_price = model.predict(new_laptop)\n",
    "\n",
    "# print the predicted price\n",
    "print(\"The predicted price for this laptop is Rs.\", round(predicted_price[0]))"
   ]
  },
  {
   "cell_type": "code",
   "execution_count": null,
   "id": "a3654105",
   "metadata": {},
   "outputs": [],
   "source": []
  }
 ],
 "metadata": {
  "kernelspec": {
   "display_name": "Python 3 (ipykernel)",
   "language": "python",
   "name": "python3"
  },
  "language_info": {
   "codemirror_mode": {
    "name": "ipython",
    "version": 3
   },
   "file_extension": ".py",
   "mimetype": "text/x-python",
   "name": "python",
   "nbconvert_exporter": "python",
   "pygments_lexer": "ipython3",
   "version": "3.9.13"
  }
 },
 "nbformat": 4,
 "nbformat_minor": 5
}
